{
 "cells": [
  {
   "cell_type": "markdown",
   "id": "00b3824a",
   "metadata": {},
   "source": [
    "| Aspect                       | **Vector Space Model (VSM)**                                             | **Extended Boolean Model (EBM)**                                            |\n",
    "| :--------------------------- | :----------------------------------------------------------------------- | :-------------------------------------------------------------------------- |\n",
    "| **What it measures**         | *Similarity* — how close a document is to the query in a geometric sense | *Satisfaction* — how well a document fulfills a Boolean condition (AND, OR) |\n",
    "| **Mathematical idea**        | Based on **angles** between vectors (cosine)                             | Based on **p-norms** that generalize AND/OR logic                           |\n",
    "| **Query type**               | Free weighted terms (like “AI, data”)                                    | Boolean-style queries (“AI AND data”, “AI OR data”)                         |\n",
    "| **Interpretation of result** | “Document is 0.8 similar to query”                                       | “Document satisfies 80% of the Boolean condition”                           |\n",
    "| **Behavior control**         | Fixed (no parameters)                                                    | Adjustable (via parameter ( p ))                                            |\n",
    "| **Origin**                   | Linear algebra                                                           | Fuzzy logic + geometry                                                      |\n"
   ]
  },
  {
   "cell_type": "markdown",
   "id": "4d629d9b",
   "metadata": {},
   "source": [
    "## Vector Space Model (VSM) for Information Retrieval\n",
    "\n",
    "In this notebook, we implement the Vector Space Model using TF–IDF weighted document vectors and compute similarity between queries and documents using three measures:\n",
    "\n",
    "- **Inner Product Similarity**\n",
    "- **Cosine Similarity**\n",
    "- **Jaccard Similarity**\n",
    "\n",
    "We test the model on the following queries:\n",
    "\n",
    "1. `q1`: large language models for information retrieval and ranking  \n",
    "2. `q2`: LLM for information retrieval and Ranking  \n",
    "3. `q3`: query Reformulation in information retrieval  \n",
    "4. `q4`: ranking Documents  \n",
    "5. `q5`: Optimizing recommendation systems with LLMs by leveraging item metadata\n",
    "\n",
    "6. **Load the Document–Term and Inverted Index files**  \n",
    "   - Use the files generated in Lab 1 to access the TF–IDF weights of terms in each document.\n",
    "\n",
    "7. **Preprocess each query**  \n",
    "   - Tokenize the query text.  \n",
    "   - Remove stop words.  \n",
    "   - Apply stemming (e.g., Porter Stemmer).\n",
    "\n",
    "8. **For each similarity measure (Inner Product, Cosine, Jaccard):**  \n",
    "   - Compute the similarity score between the query and every document.  \n",
    "   - Use a **binary weighting scheme** for queries:  \n",
    "     - Weight = 1 if the term appears in the query.  \n",
    "     - Weight = 0 if the term does not appear.  \n",
    "   - Rank the documents in **descending order of similarity**.  \n",
    "   - Display the ranked documents for each query.\n"
   ]
  },
  {
   "cell_type": "code",
   "execution_count": 1,
   "id": "b7fcd7ca",
   "metadata": {},
   "outputs": [
    {
     "name": "stdout",
     "output_type": "stream",
     "text": [
      "\n",
      "🔹 Results for q1: large language models for information retrieval and ranking\n"
     ]
    },
    {
     "data": {
      "application/vnd.microsoft.datawrangler.viewer.v0+json": {
       "columns": [
        {
         "name": "index",
         "rawType": "int64",
         "type": "integer"
        },
        {
         "name": "Document",
         "rawType": "object",
         "type": "string"
        },
        {
         "name": "InnerProduct",
         "rawType": "float64",
         "type": "float"
        },
        {
         "name": "Cosine",
         "rawType": "float64",
         "type": "float"
        },
        {
         "name": "Jaccard",
         "rawType": "float64",
         "type": "float"
        }
       ],
       "ref": "d366d4ed-50b2-4e34-b0f1-3f03b86db069",
       "rows": [
        [
         "0",
         "D4",
         "0.556701",
         "0.1977258280995793",
         "0.038190295031332866"
        ],
        [
         "1",
         "D2",
         "0.852919",
         "0.18577786791677323",
         "0.039867088359981"
        ],
        [
         "2",
         "D3",
         "0.426031",
         "0.12947538302427197",
         "0.025982075380103525"
        ],
        [
         "3",
         "D1",
         "0.541854",
         "0.12037575096221712",
         "0.026686424538504585"
        ],
        [
         "4",
         "D5",
         "0.5",
         "0.10418724017451331",
         "0.021837042988359152"
        ],
        [
         "5",
         "D6",
         "0.20025800000000002",
         "0.056123756610550614",
         "0.012284235486717239"
        ]
       ],
       "shape": {
        "columns": 4,
        "rows": 6
       }
      },
      "text/html": [
       "<div>\n",
       "<style scoped>\n",
       "    .dataframe tbody tr th:only-of-type {\n",
       "        vertical-align: middle;\n",
       "    }\n",
       "\n",
       "    .dataframe tbody tr th {\n",
       "        vertical-align: top;\n",
       "    }\n",
       "\n",
       "    .dataframe thead th {\n",
       "        text-align: right;\n",
       "    }\n",
       "</style>\n",
       "<table border=\"1\" class=\"dataframe\">\n",
       "  <thead>\n",
       "    <tr style=\"text-align: right;\">\n",
       "      <th></th>\n",
       "      <th>Document</th>\n",
       "      <th>InnerProduct</th>\n",
       "      <th>Cosine</th>\n",
       "      <th>Jaccard</th>\n",
       "    </tr>\n",
       "  </thead>\n",
       "  <tbody>\n",
       "    <tr>\n",
       "      <th>0</th>\n",
       "      <td>D4</td>\n",
       "      <td>0.556701</td>\n",
       "      <td>0.197726</td>\n",
       "      <td>0.038190</td>\n",
       "    </tr>\n",
       "    <tr>\n",
       "      <th>1</th>\n",
       "      <td>D2</td>\n",
       "      <td>0.852919</td>\n",
       "      <td>0.185778</td>\n",
       "      <td>0.039867</td>\n",
       "    </tr>\n",
       "    <tr>\n",
       "      <th>2</th>\n",
       "      <td>D3</td>\n",
       "      <td>0.426031</td>\n",
       "      <td>0.129475</td>\n",
       "      <td>0.025982</td>\n",
       "    </tr>\n",
       "    <tr>\n",
       "      <th>3</th>\n",
       "      <td>D1</td>\n",
       "      <td>0.541854</td>\n",
       "      <td>0.120376</td>\n",
       "      <td>0.026686</td>\n",
       "    </tr>\n",
       "    <tr>\n",
       "      <th>4</th>\n",
       "      <td>D5</td>\n",
       "      <td>0.500000</td>\n",
       "      <td>0.104187</td>\n",
       "      <td>0.021837</td>\n",
       "    </tr>\n",
       "    <tr>\n",
       "      <th>5</th>\n",
       "      <td>D6</td>\n",
       "      <td>0.200258</td>\n",
       "      <td>0.056124</td>\n",
       "      <td>0.012284</td>\n",
       "    </tr>\n",
       "  </tbody>\n",
       "</table>\n",
       "</div>"
      ],
      "text/plain": [
       "  Document  InnerProduct    Cosine   Jaccard\n",
       "0       D4      0.556701  0.197726  0.038190\n",
       "1       D2      0.852919  0.185778  0.039867\n",
       "2       D3      0.426031  0.129475  0.025982\n",
       "3       D1      0.541854  0.120376  0.026686\n",
       "4       D5      0.500000  0.104187  0.021837\n",
       "5       D6      0.200258  0.056124  0.012284"
      ]
     },
     "metadata": {},
     "output_type": "display_data"
    },
    {
     "name": "stdout",
     "output_type": "stream",
     "text": [
      "\n",
      "🔹 Results for q2: LLM for information retrieval and Ranking\n"
     ]
    },
    {
     "data": {
      "application/vnd.microsoft.datawrangler.viewer.v0+json": {
       "columns": [
        {
         "name": "index",
         "rawType": "int64",
         "type": "integer"
        },
        {
         "name": "Document",
         "rawType": "object",
         "type": "string"
        },
        {
         "name": "InnerProduct",
         "rawType": "float64",
         "type": "float"
        },
        {
         "name": "Cosine",
         "rawType": "float64",
         "type": "float"
        },
        {
         "name": "Jaccard",
         "rawType": "float64",
         "type": "float"
        }
       ],
       "ref": "63dabc18-b1a0-4396-81a2-203eea3b58ba",
       "rows": [
        [
         "0",
         "D2",
         "0.944483",
         "0.2519567282275445",
         "0.04893060737886841"
        ],
        [
         "1",
         "D4",
         "0.53705",
         "0.23361555271599552",
         "0.04263425304399676"
        ],
        [
         "2",
         "D5",
         "0.541393",
         "0.13816651248119113",
         "0.025959268259469453"
        ],
        [
         "3",
         "D1",
         "0.361236",
         "0.0982863890872577",
         "0.019542010567538754"
        ],
        [
         "4",
         "D6",
         "0.263757",
         "0.09053291040169151",
         "0.018524169589662083"
        ],
        [
         "5",
         "D3",
         "0.220954",
         "0.08224196921281728",
         "0.01513156691780938"
        ]
       ],
       "shape": {
        "columns": 4,
        "rows": 6
       }
      },
      "text/html": [
       "<div>\n",
       "<style scoped>\n",
       "    .dataframe tbody tr th:only-of-type {\n",
       "        vertical-align: middle;\n",
       "    }\n",
       "\n",
       "    .dataframe tbody tr th {\n",
       "        vertical-align: top;\n",
       "    }\n",
       "\n",
       "    .dataframe thead th {\n",
       "        text-align: right;\n",
       "    }\n",
       "</style>\n",
       "<table border=\"1\" class=\"dataframe\">\n",
       "  <thead>\n",
       "    <tr style=\"text-align: right;\">\n",
       "      <th></th>\n",
       "      <th>Document</th>\n",
       "      <th>InnerProduct</th>\n",
       "      <th>Cosine</th>\n",
       "      <th>Jaccard</th>\n",
       "    </tr>\n",
       "  </thead>\n",
       "  <tbody>\n",
       "    <tr>\n",
       "      <th>0</th>\n",
       "      <td>D2</td>\n",
       "      <td>0.944483</td>\n",
       "      <td>0.251957</td>\n",
       "      <td>0.048931</td>\n",
       "    </tr>\n",
       "    <tr>\n",
       "      <th>1</th>\n",
       "      <td>D4</td>\n",
       "      <td>0.537050</td>\n",
       "      <td>0.233616</td>\n",
       "      <td>0.042634</td>\n",
       "    </tr>\n",
       "    <tr>\n",
       "      <th>2</th>\n",
       "      <td>D5</td>\n",
       "      <td>0.541393</td>\n",
       "      <td>0.138167</td>\n",
       "      <td>0.025959</td>\n",
       "    </tr>\n",
       "    <tr>\n",
       "      <th>3</th>\n",
       "      <td>D1</td>\n",
       "      <td>0.361236</td>\n",
       "      <td>0.098286</td>\n",
       "      <td>0.019542</td>\n",
       "    </tr>\n",
       "    <tr>\n",
       "      <th>4</th>\n",
       "      <td>D6</td>\n",
       "      <td>0.263757</td>\n",
       "      <td>0.090533</td>\n",
       "      <td>0.018524</td>\n",
       "    </tr>\n",
       "    <tr>\n",
       "      <th>5</th>\n",
       "      <td>D3</td>\n",
       "      <td>0.220954</td>\n",
       "      <td>0.082242</td>\n",
       "      <td>0.015132</td>\n",
       "    </tr>\n",
       "  </tbody>\n",
       "</table>\n",
       "</div>"
      ],
      "text/plain": [
       "  Document  InnerProduct    Cosine   Jaccard\n",
       "0       D2      0.944483  0.251957  0.048931\n",
       "1       D4      0.537050  0.233616  0.042634\n",
       "2       D5      0.541393  0.138167  0.025959\n",
       "3       D1      0.361236  0.098286  0.019542\n",
       "4       D6      0.263757  0.090533  0.018524\n",
       "5       D3      0.220954  0.082242  0.015132"
      ]
     },
     "metadata": {},
     "output_type": "display_data"
    },
    {
     "name": "stdout",
     "output_type": "stream",
     "text": [
      "\n",
      "🔹 Results for q3: query Reformulation in information retrieval\n"
     ]
    },
    {
     "data": {
      "application/vnd.microsoft.datawrangler.viewer.v0+json": {
       "columns": [
        {
         "name": "index",
         "rawType": "int64",
         "type": "integer"
        },
        {
         "name": "Document",
         "rawType": "object",
         "type": "string"
        },
        {
         "name": "InnerProduct",
         "rawType": "float64",
         "type": "float"
        },
        {
         "name": "Cosine",
         "rawType": "float64",
         "type": "float"
        },
        {
         "name": "Jaccard",
         "rawType": "float64",
         "type": "float"
        }
       ],
       "ref": "aead3f11-bbcb-44b8-8399-c2b556928020",
       "rows": [
        [
         "0",
         "D4",
         "1.088431",
         "0.47346505848286696",
         "0.09036148379226483"
        ],
        [
         "1",
         "D1",
         "0.840824",
         "0.22877441566705525",
         "0.04669814702842925"
        ],
        [
         "2",
         "D5",
         "0.265293",
         "0.06770425290994277",
         "0.012554338104391627"
        ],
        [
         "3",
         "D3",
         "0.049743",
         "0.018514995313744804",
         "0.0033670651305725157"
        ],
        [
         "4",
         "D2",
         "0.066323",
         "0.017692775927396716",
         "0.0032864635391738196"
        ],
        [
         "5",
         "D6",
         "0.049743",
         "0.017073967940609502",
         "0.0034418154806900125"
        ]
       ],
       "shape": {
        "columns": 4,
        "rows": 6
       }
      },
      "text/html": [
       "<div>\n",
       "<style scoped>\n",
       "    .dataframe tbody tr th:only-of-type {\n",
       "        vertical-align: middle;\n",
       "    }\n",
       "\n",
       "    .dataframe tbody tr th {\n",
       "        vertical-align: top;\n",
       "    }\n",
       "\n",
       "    .dataframe thead th {\n",
       "        text-align: right;\n",
       "    }\n",
       "</style>\n",
       "<table border=\"1\" class=\"dataframe\">\n",
       "  <thead>\n",
       "    <tr style=\"text-align: right;\">\n",
       "      <th></th>\n",
       "      <th>Document</th>\n",
       "      <th>InnerProduct</th>\n",
       "      <th>Cosine</th>\n",
       "      <th>Jaccard</th>\n",
       "    </tr>\n",
       "  </thead>\n",
       "  <tbody>\n",
       "    <tr>\n",
       "      <th>0</th>\n",
       "      <td>D4</td>\n",
       "      <td>1.088431</td>\n",
       "      <td>0.473465</td>\n",
       "      <td>0.090361</td>\n",
       "    </tr>\n",
       "    <tr>\n",
       "      <th>1</th>\n",
       "      <td>D1</td>\n",
       "      <td>0.840824</td>\n",
       "      <td>0.228774</td>\n",
       "      <td>0.046698</td>\n",
       "    </tr>\n",
       "    <tr>\n",
       "      <th>2</th>\n",
       "      <td>D5</td>\n",
       "      <td>0.265293</td>\n",
       "      <td>0.067704</td>\n",
       "      <td>0.012554</td>\n",
       "    </tr>\n",
       "    <tr>\n",
       "      <th>3</th>\n",
       "      <td>D3</td>\n",
       "      <td>0.049743</td>\n",
       "      <td>0.018515</td>\n",
       "      <td>0.003367</td>\n",
       "    </tr>\n",
       "    <tr>\n",
       "      <th>4</th>\n",
       "      <td>D2</td>\n",
       "      <td>0.066323</td>\n",
       "      <td>0.017693</td>\n",
       "      <td>0.003286</td>\n",
       "    </tr>\n",
       "    <tr>\n",
       "      <th>5</th>\n",
       "      <td>D6</td>\n",
       "      <td>0.049743</td>\n",
       "      <td>0.017074</td>\n",
       "      <td>0.003442</td>\n",
       "    </tr>\n",
       "  </tbody>\n",
       "</table>\n",
       "</div>"
      ],
      "text/plain": [
       "  Document  InnerProduct    Cosine   Jaccard\n",
       "0       D4      1.088431  0.473465  0.090361\n",
       "1       D1      0.840824  0.228774  0.046698\n",
       "2       D5      0.265293  0.067704  0.012554\n",
       "3       D3      0.049743  0.018515  0.003367\n",
       "4       D2      0.066323  0.017693  0.003286\n",
       "5       D6      0.049743  0.017074  0.003442"
      ]
     },
     "metadata": {},
     "output_type": "display_data"
    },
    {
     "name": "stdout",
     "output_type": "stream",
     "text": [
      "\n",
      "🔹 Results for q4: ranking Documents\n"
     ]
    },
    {
     "data": {
      "application/vnd.microsoft.datawrangler.viewer.v0+json": {
       "columns": [
        {
         "name": "index",
         "rawType": "int64",
         "type": "integer"
        },
        {
         "name": "Document",
         "rawType": "object",
         "type": "string"
        },
        {
         "name": "InnerProduct",
         "rawType": "float64",
         "type": "float"
        },
        {
         "name": "Cosine",
         "rawType": "float64",
         "type": "float"
        },
        {
         "name": "Jaccard",
         "rawType": "float64",
         "type": "float"
        }
       ],
       "ref": "25d01d72-a3a8-4594-8afe-320ee408ec40",
       "rows": [
        [
         "0",
         "D2",
         "0.7611",
         "0.28713658747613685",
         "0.04352654329933143"
        ],
        [
         "1",
         "D1",
         "0.215836",
         "0.0830503059966034",
         "0.012978323741217867"
        ],
        [
         "2",
         "D5",
         "0.07952",
         "0.028699975667478794",
         "0.004116506024401997"
        ],
        [
         "3",
         "D6",
         "0.0",
         "0.0",
         "0.0"
        ],
        [
         "4",
         "D4",
         "0.0",
         "0.0",
         "0.0"
        ],
        [
         "5",
         "D3",
         "0.0",
         "0.0",
         "0.0"
        ]
       ],
       "shape": {
        "columns": 4,
        "rows": 6
       }
      },
      "text/html": [
       "<div>\n",
       "<style scoped>\n",
       "    .dataframe tbody tr th:only-of-type {\n",
       "        vertical-align: middle;\n",
       "    }\n",
       "\n",
       "    .dataframe tbody tr th {\n",
       "        vertical-align: top;\n",
       "    }\n",
       "\n",
       "    .dataframe thead th {\n",
       "        text-align: right;\n",
       "    }\n",
       "</style>\n",
       "<table border=\"1\" class=\"dataframe\">\n",
       "  <thead>\n",
       "    <tr style=\"text-align: right;\">\n",
       "      <th></th>\n",
       "      <th>Document</th>\n",
       "      <th>InnerProduct</th>\n",
       "      <th>Cosine</th>\n",
       "      <th>Jaccard</th>\n",
       "    </tr>\n",
       "  </thead>\n",
       "  <tbody>\n",
       "    <tr>\n",
       "      <th>0</th>\n",
       "      <td>D2</td>\n",
       "      <td>0.761100</td>\n",
       "      <td>0.287137</td>\n",
       "      <td>0.043527</td>\n",
       "    </tr>\n",
       "    <tr>\n",
       "      <th>1</th>\n",
       "      <td>D1</td>\n",
       "      <td>0.215836</td>\n",
       "      <td>0.083050</td>\n",
       "      <td>0.012978</td>\n",
       "    </tr>\n",
       "    <tr>\n",
       "      <th>2</th>\n",
       "      <td>D5</td>\n",
       "      <td>0.079520</td>\n",
       "      <td>0.028700</td>\n",
       "      <td>0.004117</td>\n",
       "    </tr>\n",
       "    <tr>\n",
       "      <th>3</th>\n",
       "      <td>D6</td>\n",
       "      <td>0.000000</td>\n",
       "      <td>0.000000</td>\n",
       "      <td>0.000000</td>\n",
       "    </tr>\n",
       "    <tr>\n",
       "      <th>4</th>\n",
       "      <td>D4</td>\n",
       "      <td>0.000000</td>\n",
       "      <td>0.000000</td>\n",
       "      <td>0.000000</td>\n",
       "    </tr>\n",
       "    <tr>\n",
       "      <th>5</th>\n",
       "      <td>D3</td>\n",
       "      <td>0.000000</td>\n",
       "      <td>0.000000</td>\n",
       "      <td>0.000000</td>\n",
       "    </tr>\n",
       "  </tbody>\n",
       "</table>\n",
       "</div>"
      ],
      "text/plain": [
       "  Document  InnerProduct    Cosine   Jaccard\n",
       "0       D2      0.761100  0.287137  0.043527\n",
       "1       D1      0.215836  0.083050  0.012978\n",
       "2       D5      0.079520  0.028700  0.004117\n",
       "3       D6      0.000000  0.000000  0.000000\n",
       "4       D4      0.000000  0.000000  0.000000\n",
       "5       D3      0.000000  0.000000  0.000000"
      ]
     },
     "metadata": {},
     "output_type": "display_data"
    },
    {
     "name": "stdout",
     "output_type": "stream",
     "text": [
      "\n",
      "🔹 Results for q5: Optimizing recommendation systems with LLMs by leveraging item metadata\n"
     ]
    },
    {
     "data": {
      "application/vnd.microsoft.datawrangler.viewer.v0+json": {
       "columns": [
        {
         "name": "index",
         "rawType": "int64",
         "type": "integer"
        },
        {
         "name": "Document",
         "rawType": "object",
         "type": "string"
        },
        {
         "name": "InnerProduct",
         "rawType": "float64",
         "type": "float"
        },
        {
         "name": "Cosine",
         "rawType": "float64",
         "type": "float"
        },
        {
         "name": "Jaccard",
         "rawType": "float64",
         "type": "float"
        }
       ],
       "ref": "1ff8e378-5d69-4f07-8209-bf078dd73057",
       "rows": [
        [
         "0",
         "D3",
         "0.848528",
         "0.2387474743449891",
         "0.04998805569375211"
        ],
        [
         "1",
         "D6",
         "0.515043",
         "0.1336370721926248",
         "0.03031939195326941"
        ],
        [
         "2",
         "D4",
         "0.314068",
         "0.10327416583288454",
         "0.01985301707792601"
        ],
        [
         "3",
         "D5",
         "0.42194299999999996",
         "0.08140009679774046",
         "0.01759934231299111"
        ],
        [
         "4",
         "D2",
         "0.342423",
         "0.06905191358373142",
         "0.014949993143286452"
        ],
        [
         "5",
         "D1",
         "0.095424",
         "0.019626413673488035",
         "0.00438712658977824"
        ]
       ],
       "shape": {
        "columns": 4,
        "rows": 6
       }
      },
      "text/html": [
       "<div>\n",
       "<style scoped>\n",
       "    .dataframe tbody tr th:only-of-type {\n",
       "        vertical-align: middle;\n",
       "    }\n",
       "\n",
       "    .dataframe tbody tr th {\n",
       "        vertical-align: top;\n",
       "    }\n",
       "\n",
       "    .dataframe thead th {\n",
       "        text-align: right;\n",
       "    }\n",
       "</style>\n",
       "<table border=\"1\" class=\"dataframe\">\n",
       "  <thead>\n",
       "    <tr style=\"text-align: right;\">\n",
       "      <th></th>\n",
       "      <th>Document</th>\n",
       "      <th>InnerProduct</th>\n",
       "      <th>Cosine</th>\n",
       "      <th>Jaccard</th>\n",
       "    </tr>\n",
       "  </thead>\n",
       "  <tbody>\n",
       "    <tr>\n",
       "      <th>0</th>\n",
       "      <td>D3</td>\n",
       "      <td>0.848528</td>\n",
       "      <td>0.238747</td>\n",
       "      <td>0.049988</td>\n",
       "    </tr>\n",
       "    <tr>\n",
       "      <th>1</th>\n",
       "      <td>D6</td>\n",
       "      <td>0.515043</td>\n",
       "      <td>0.133637</td>\n",
       "      <td>0.030319</td>\n",
       "    </tr>\n",
       "    <tr>\n",
       "      <th>2</th>\n",
       "      <td>D4</td>\n",
       "      <td>0.314068</td>\n",
       "      <td>0.103274</td>\n",
       "      <td>0.019853</td>\n",
       "    </tr>\n",
       "    <tr>\n",
       "      <th>3</th>\n",
       "      <td>D5</td>\n",
       "      <td>0.421943</td>\n",
       "      <td>0.081400</td>\n",
       "      <td>0.017599</td>\n",
       "    </tr>\n",
       "    <tr>\n",
       "      <th>4</th>\n",
       "      <td>D2</td>\n",
       "      <td>0.342423</td>\n",
       "      <td>0.069052</td>\n",
       "      <td>0.014950</td>\n",
       "    </tr>\n",
       "    <tr>\n",
       "      <th>5</th>\n",
       "      <td>D1</td>\n",
       "      <td>0.095424</td>\n",
       "      <td>0.019626</td>\n",
       "      <td>0.004387</td>\n",
       "    </tr>\n",
       "  </tbody>\n",
       "</table>\n",
       "</div>"
      ],
      "text/plain": [
       "  Document  InnerProduct    Cosine   Jaccard\n",
       "0       D3      0.848528  0.238747  0.049988\n",
       "1       D6      0.515043  0.133637  0.030319\n",
       "2       D4      0.314068  0.103274  0.019853\n",
       "3       D5      0.421943  0.081400  0.017599\n",
       "4       D2      0.342423  0.069052  0.014950\n",
       "5       D1      0.095424  0.019626  0.004387"
      ]
     },
     "metadata": {},
     "output_type": "display_data"
    }
   ],
   "source": [
    "import pandas as pd\n",
    "import numpy as np\n",
    "from nltk.corpus import stopwords\n",
    "from nltk.stem import PorterStemmer\n",
    "from collections import defaultdict\n",
    "import re\n",
    "\n",
    "# -------------------------------\n",
    "# 1️⃣ Load TF–IDF Weighted Inverted Index\n",
    "# -------------------------------\n",
    "inverted_path = \"results/inverted_index_weighted.txt\"\n",
    "\n",
    "data = pd.read_csv(\n",
    "    inverted_path, \n",
    "    sep=\"\\t\", \n",
    "    header=None, \n",
    "    names=[\"term\", \"doc\", \"freq\", \"tfidf\"]\n",
    ")\n",
    "\n",
    "# Build dictionary: {doc: {term: tfidf}}\n",
    "doc_dict = defaultdict(dict)\n",
    "for _, row in data.iterrows():\n",
    "    term = str(row[\"term\"]).lower()\n",
    "    doc = str(row[\"doc\"]).replace(\".txt\", \"\")\n",
    "    doc_dict[doc][term] = float(row[\"tfidf\"])\n",
    "\n",
    "# -------------------------------\n",
    "# 2️⃣ Preprocessing Function for Queries\n",
    "# -------------------------------\n",
    "stop_words = set(stopwords.words(\"english\"))\n",
    "stemmer = PorterStemmer()\n",
    "\n",
    "def preprocess(text):\n",
    "    tokens = re.findall(r\"\\b\\w+\\b\", text.lower())\n",
    "    filtered = [stemmer.stem(t) for t in tokens if t not in stop_words]\n",
    "    return filtered\n",
    "\n",
    "# -------------------------------\n",
    "# 3️⃣ Queries\n",
    "# -------------------------------\n",
    "queries = {\n",
    "    \"q1\": \"large language models for information retrieval and ranking\",\n",
    "    \"q2\": \"LLM for information retrieval and Ranking\",\n",
    "    \"q3\": \"query Reformulation in information retrieval\",\n",
    "    \"q4\": \"ranking Documents\",\n",
    "    \"q5\": \"Optimizing recommendation systems with LLMs by leveraging item metadata\"\n",
    "}\n",
    "\n",
    "# -------------------------------\n",
    "# 4️⃣ Vector Space Model Scoring Functions\n",
    "# -------------------------------\n",
    "def inner_product(query_terms, doc_terms):\n",
    "    score = 0.0\n",
    "    for term in query_terms:\n",
    "        if term in doc_terms:\n",
    "            score += doc_terms[term] * 1  # query weight = 1\n",
    "    return score\n",
    "\n",
    "def cosine_similarity(query_terms, doc_terms):\n",
    "    numerator = inner_product(query_terms, doc_terms)\n",
    "    doc_norm = np.sqrt(sum(np.square(list(doc_terms.values()))))\n",
    "    query_norm = np.sqrt(len(query_terms))  # binary weights\n",
    "    if doc_norm == 0 or query_norm == 0:\n",
    "        return 0\n",
    "    return numerator / (doc_norm * query_norm)\n",
    "\n",
    "def jaccard_similarity(query_terms, doc_terms):\n",
    "    intersection = sum([doc_terms[t] for t in query_terms if t in doc_terms])\n",
    "    union = len(query_terms) + sum(doc_terms.values()) - intersection\n",
    "    return intersection / union if union != 0 else 0\n",
    "\n",
    "# -------------------------------\n",
    "# 5️⃣ Compute and Rank Similarities\n",
    "# -------------------------------\n",
    "def rank_documents(query_text):\n",
    "    query_terms = preprocess(query_text)\n",
    "    scores = []\n",
    "\n",
    "    for doc, terms in doc_dict.items():\n",
    "        inner = inner_product(query_terms, terms)\n",
    "        cosine = cosine_similarity(query_terms, terms)\n",
    "        jaccard = jaccard_similarity(query_terms, terms)\n",
    "        scores.append((doc, inner, cosine, jaccard))\n",
    "\n",
    "    df = pd.DataFrame(scores, columns=[\"Document\", \"InnerProduct\", \"Cosine\", \"Jaccard\"])\n",
    "    df = df.sort_values(by=\"Cosine\", ascending=False)\n",
    "    return df.reset_index(drop=True)\n",
    "\n",
    "# -------------------------------\n",
    "# 6️⃣ Run for All Queries\n",
    "# -------------------------------\n",
    "for q_id, q_text in queries.items():\n",
    "    print(f\"\\n🔹 Results for {q_id}: {q_text}\")\n",
    "    results = rank_documents(q_text)\n",
    "    display(results.head(10))\n"
   ]
  },
  {
   "cell_type": "markdown",
   "id": "82418a1c",
   "metadata": {},
   "source": [
    "## 🧩 Explanation\n",
    "\n",
    "### 🔹 Inverted Index\n",
    "- Loaded from your **Lab 1 output** (contains: *term*, *document*, *TF–IDF*).  \n",
    "- Allows efficient retrieval of documents containing each term.\n",
    "\n",
    "---\n",
    "\n",
    "### 🔹 Document Dictionary (`doc_dict`)\n",
    "- Maps every **document → its TF–IDF terms**.  \n",
    "- Example:  \n",
    "  `{ \"doc1\": {\"cat\": 0.23, \"mat\": 0.18, ...}, \"doc2\": {...} }`\n",
    "\n",
    "---\n",
    "\n",
    "### 🔹 Query Preprocessing\n",
    "- Removes **stopwords**.  \n",
    "- Applies **stemming** to reduce words to their root form.  \n",
    "- Uses **binary weighting** for queries → each query term = **1**.\n",
    "\n",
    "---\n",
    "\n",
    "### 🔹 Similarity Measures\n",
    "\n",
    "| Measure | Description |\n",
    "|:---------|:-------------|\n",
    "| **Inner Product** | Basic overlap strength between query and document vectors. |\n",
    "| **Cosine Similarity** | Normalized measure of similarity (most commonly used). |\n",
    "| **Jaccard Similarity** | Balances overlap with document length. |\n",
    "\n",
    "---\n",
    "\n",
    "### 🔹 Ranking\n",
    "- Documents are **sorted by cosine similarity** by default.  \n",
    "- You can change the sorting column to use **another similarity metric**.\n"
   ]
  },
  {
   "cell_type": "markdown",
   "id": "3379e8a2",
   "metadata": {},
   "source": [
    "The Vector Space Model measures how similar documents are to a query.\n",
    "\n",
    "The Extended Boolean Model measures how much a document satisfies a Boolean-style query — but with graded results."
   ]
  }
 ],
 "metadata": {
  "kernelspec": {
   "display_name": "ir_env",
   "language": "python",
   "name": "python3"
  },
  "language_info": {
   "codemirror_mode": {
    "name": "ipython",
    "version": 3
   },
   "file_extension": ".py",
   "mimetype": "text/x-python",
   "name": "python",
   "nbconvert_exporter": "python",
   "pygments_lexer": "ipython3",
   "version": "3.13.5"
  }
 },
 "nbformat": 4,
 "nbformat_minor": 5
}
