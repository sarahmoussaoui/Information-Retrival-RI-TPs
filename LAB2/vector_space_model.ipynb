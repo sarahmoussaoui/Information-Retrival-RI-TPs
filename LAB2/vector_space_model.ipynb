{
 "cells": [
  {
   "cell_type": "markdown",
   "id": "4d629d9b",
   "metadata": {},
   "source": [
    "## Vector Space Model (VSM) for Information Retrieval\n",
    "\n",
    "In this notebook, we implement the Vector Space Model using TF–IDF weighted document vectors and compute similarity between queries and documents using three measures:\n",
    "\n",
    "- **Inner Product Similarity**\n",
    "- **Cosine Similarity**\n",
    "- **Jaccard Similarity**\n",
    "\n",
    "We test the model on the following queries:\n",
    "\n",
    "1. `q1`: large language models for information retrieval and ranking  \n",
    "2. `q2`: LLM for information retrieval and Ranking  \n",
    "3. `q3`: query Reformulation in information retrieval  \n",
    "4. `q4`: ranking Documents  \n",
    "5. `q5`: Optimizing recommendation systems with LLMs by leveraging item metadata\n",
    "\n",
    "6. **Load the Document–Term and Inverted Index files**  \n",
    "   - Use the files generated in Lab 1 to access the TF–IDF weights of terms in each document.\n",
    "\n",
    "7. **Preprocess each query**  \n",
    "   - Tokenize the query text.  \n",
    "   - Remove stop words.  \n",
    "   - Apply stemming (e.g., Porter Stemmer).\n",
    "\n",
    "8. **For each similarity measure (Inner Product, Cosine, Jaccard):**  \n",
    "   - Compute the similarity score between the query and every document.  \n",
    "   - Use a **binary weighting scheme** for queries:  \n",
    "     - Weight = 1 if the term appears in the query.  \n",
    "     - Weight = 0 if the term does not appear.  \n",
    "   - Rank the documents in **descending order of similarity**.  \n",
    "   - Display the ranked documents for each query.\n"
   ]
  },
  {
   "cell_type": "code",
   "execution_count": 2,
   "id": "b7fcd7ca",
   "metadata": {},
   "outputs": [
    {
     "name": "stdout",
     "output_type": "stream",
     "text": [
      "\n",
      "🔹 Results for q1: large language models for information retrieval and ranking\n"
     ]
    },
    {
     "data": {
      "application/vnd.microsoft.datawrangler.viewer.v0+json": {
       "columns": [
        {
         "name": "index",
         "rawType": "int64",
         "type": "integer"
        },
        {
         "name": "Document",
         "rawType": "object",
         "type": "string"
        },
        {
         "name": "InnerProduct",
         "rawType": "float64",
         "type": "float"
        },
        {
         "name": "Cosine",
         "rawType": "float64",
         "type": "float"
        },
        {
         "name": "Jaccard",
         "rawType": "float64",
         "type": "float"
        }
       ],
       "ref": "e6d2d543-5fd3-4405-96a3-29c4a9ba6764",
       "rows": [
        [
         "0",
         "D4",
         "0.5302",
         "0.21641938203017458",
         "0.040065592104766005"
        ],
        [
         "1",
         "D2",
         "0.5103",
         "0.20832548716625243",
         "0.036632639875952965"
        ],
        [
         "2",
         "D3",
         "0.3755",
         "0.1533116496414234",
         "0.02866521622962709"
        ],
        [
         "3",
         "D1",
         "0.32780000000000004",
         "0.13383170599359767",
         "0.024113579520376634"
        ],
        [
         "4",
         "D5",
         "0.3063",
         "0.12506780852090874",
         "0.021062113637770153"
        ],
        [
         "5",
         "D6",
         "0.17170000000000002",
         "0.0700909124751193",
         "0.01328299668118487"
        ]
       ],
       "shape": {
        "columns": 4,
        "rows": 6
       }
      },
      "text/html": [
       "<div>\n",
       "<style scoped>\n",
       "    .dataframe tbody tr th:only-of-type {\n",
       "        vertical-align: middle;\n",
       "    }\n",
       "\n",
       "    .dataframe tbody tr th {\n",
       "        vertical-align: top;\n",
       "    }\n",
       "\n",
       "    .dataframe thead th {\n",
       "        text-align: right;\n",
       "    }\n",
       "</style>\n",
       "<table border=\"1\" class=\"dataframe\">\n",
       "  <thead>\n",
       "    <tr style=\"text-align: right;\">\n",
       "      <th></th>\n",
       "      <th>Document</th>\n",
       "      <th>InnerProduct</th>\n",
       "      <th>Cosine</th>\n",
       "      <th>Jaccard</th>\n",
       "    </tr>\n",
       "  </thead>\n",
       "  <tbody>\n",
       "    <tr>\n",
       "      <th>0</th>\n",
       "      <td>D4</td>\n",
       "      <td>0.5302</td>\n",
       "      <td>0.216419</td>\n",
       "      <td>0.040066</td>\n",
       "    </tr>\n",
       "    <tr>\n",
       "      <th>1</th>\n",
       "      <td>D2</td>\n",
       "      <td>0.5103</td>\n",
       "      <td>0.208325</td>\n",
       "      <td>0.036633</td>\n",
       "    </tr>\n",
       "    <tr>\n",
       "      <th>2</th>\n",
       "      <td>D3</td>\n",
       "      <td>0.3755</td>\n",
       "      <td>0.153312</td>\n",
       "      <td>0.028665</td>\n",
       "    </tr>\n",
       "    <tr>\n",
       "      <th>3</th>\n",
       "      <td>D1</td>\n",
       "      <td>0.3278</td>\n",
       "      <td>0.133832</td>\n",
       "      <td>0.024114</td>\n",
       "    </tr>\n",
       "    <tr>\n",
       "      <th>4</th>\n",
       "      <td>D5</td>\n",
       "      <td>0.3063</td>\n",
       "      <td>0.125068</td>\n",
       "      <td>0.021062</td>\n",
       "    </tr>\n",
       "    <tr>\n",
       "      <th>5</th>\n",
       "      <td>D6</td>\n",
       "      <td>0.1717</td>\n",
       "      <td>0.070091</td>\n",
       "      <td>0.013283</td>\n",
       "    </tr>\n",
       "  </tbody>\n",
       "</table>\n",
       "</div>"
      ],
      "text/plain": [
       "  Document  InnerProduct    Cosine   Jaccard\n",
       "0       D4        0.5302  0.216419  0.040066\n",
       "1       D2        0.5103  0.208325  0.036633\n",
       "2       D3        0.3755  0.153312  0.028665\n",
       "3       D1        0.3278  0.133832  0.024114\n",
       "4       D5        0.3063  0.125068  0.021062\n",
       "5       D6        0.1717  0.070091  0.013283"
      ]
     },
     "metadata": {},
     "output_type": "display_data"
    },
    {
     "name": "stdout",
     "output_type": "stream",
     "text": [
      "\n",
      "🔹 Results for q2: LLM for information retrieval and Ranking\n"
     ]
    },
    {
     "data": {
      "application/vnd.microsoft.datawrangler.viewer.v0+json": {
       "columns": [
        {
         "name": "index",
         "rawType": "int64",
         "type": "integer"
        },
        {
         "name": "Document",
         "rawType": "object",
         "type": "string"
        },
        {
         "name": "InnerProduct",
         "rawType": "float64",
         "type": "float"
        },
        {
         "name": "Cosine",
         "rawType": "float64",
         "type": "float"
        },
        {
         "name": "Jaccard",
         "rawType": "float64",
         "type": "float"
        }
       ],
       "ref": "7a2d8a00-f1eb-47ab-bb06-b634ae935e72",
       "rows": [
        [
         "0",
         "D2",
         "0.5715",
         "0.2857450409378465",
         "0.048150644536186706"
        ],
        [
         "1",
         "D4",
         "0.5123",
         "0.25610992833382556",
         "0.045532920932878265"
        ],
        [
         "2",
         "D5",
         "0.3346",
         "0.16732857379367122",
         "0.026737198747043407"
        ],
        [
         "3",
         "D6",
         "0.22859999999999997",
         "0.1142913267603058",
         "0.021031519679099123"
        ],
        [
         "4",
         "D1",
         "0.2126",
         "0.1063062882029263",
         "0.01815666313667885"
        ],
        [
         "5",
         "D3",
         "0.19720000000000001",
         "0.0986092726658837",
         "0.01748567983117275"
        ]
       ],
       "shape": {
        "columns": 4,
        "rows": 6
       }
      },
      "text/html": [
       "<div>\n",
       "<style scoped>\n",
       "    .dataframe tbody tr th:only-of-type {\n",
       "        vertical-align: middle;\n",
       "    }\n",
       "\n",
       "    .dataframe tbody tr th {\n",
       "        vertical-align: top;\n",
       "    }\n",
       "\n",
       "    .dataframe thead th {\n",
       "        text-align: right;\n",
       "    }\n",
       "</style>\n",
       "<table border=\"1\" class=\"dataframe\">\n",
       "  <thead>\n",
       "    <tr style=\"text-align: right;\">\n",
       "      <th></th>\n",
       "      <th>Document</th>\n",
       "      <th>InnerProduct</th>\n",
       "      <th>Cosine</th>\n",
       "      <th>Jaccard</th>\n",
       "    </tr>\n",
       "  </thead>\n",
       "  <tbody>\n",
       "    <tr>\n",
       "      <th>0</th>\n",
       "      <td>D2</td>\n",
       "      <td>0.5715</td>\n",
       "      <td>0.285745</td>\n",
       "      <td>0.048151</td>\n",
       "    </tr>\n",
       "    <tr>\n",
       "      <th>1</th>\n",
       "      <td>D4</td>\n",
       "      <td>0.5123</td>\n",
       "      <td>0.256110</td>\n",
       "      <td>0.045533</td>\n",
       "    </tr>\n",
       "    <tr>\n",
       "      <th>2</th>\n",
       "      <td>D5</td>\n",
       "      <td>0.3346</td>\n",
       "      <td>0.167329</td>\n",
       "      <td>0.026737</td>\n",
       "    </tr>\n",
       "    <tr>\n",
       "      <th>3</th>\n",
       "      <td>D6</td>\n",
       "      <td>0.2286</td>\n",
       "      <td>0.114291</td>\n",
       "      <td>0.021032</td>\n",
       "    </tr>\n",
       "    <tr>\n",
       "      <th>4</th>\n",
       "      <td>D1</td>\n",
       "      <td>0.2126</td>\n",
       "      <td>0.106306</td>\n",
       "      <td>0.018157</td>\n",
       "    </tr>\n",
       "    <tr>\n",
       "      <th>5</th>\n",
       "      <td>D3</td>\n",
       "      <td>0.1972</td>\n",
       "      <td>0.098609</td>\n",
       "      <td>0.017486</td>\n",
       "    </tr>\n",
       "  </tbody>\n",
       "</table>\n",
       "</div>"
      ],
      "text/plain": [
       "  Document  InnerProduct    Cosine   Jaccard\n",
       "0       D2        0.5715  0.285745  0.048151\n",
       "1       D4        0.5123  0.256110  0.045533\n",
       "2       D5        0.3346  0.167329  0.026737\n",
       "3       D6        0.2286  0.114291  0.021032\n",
       "4       D1        0.2126  0.106306  0.018157\n",
       "5       D3        0.1972  0.098609  0.017486"
      ]
     },
     "metadata": {},
     "output_type": "display_data"
    },
    {
     "name": "stdout",
     "output_type": "stream",
     "text": [
      "\n",
      "🔹 Results for q3: query Reformulation in information retrieval\n"
     ]
    },
    {
     "data": {
      "application/vnd.microsoft.datawrangler.viewer.v0+json": {
       "columns": [
        {
         "name": "index",
         "rawType": "int64",
         "type": "integer"
        },
        {
         "name": "Document",
         "rawType": "object",
         "type": "string"
        },
        {
         "name": "InnerProduct",
         "rawType": "float64",
         "type": "float"
        },
        {
         "name": "Cosine",
         "rawType": "float64",
         "type": "float"
        },
        {
         "name": "Jaccard",
         "rawType": "float64",
         "type": "float"
        }
       ],
       "ref": "8ad4aa2d-ab9a-4f89-923b-86b4809b35d0",
       "rows": [
        [
         "0",
         "D4",
         "1.0441",
         "0.5219683313943926",
         "0.09740283971117787"
        ],
        [
         "1",
         "D1",
         "0.5081",
         "0.2540650283909071",
         "0.04451667732637094"
        ],
        [
         "2",
         "D5",
         "0.1636",
         "0.0818139709284059",
         "0.012896715909628391"
        ],
        [
         "3",
         "D3",
         "0.0443",
         "0.02215208305830957",
         "0.0038755281828759393"
        ],
        [
         "4",
         "D6",
         "0.043",
         "0.02149836855071369",
         "0.0038896426956128447"
        ],
        [
         "5",
         "D2",
         "0.0424",
         "0.02119963208357776",
         "0.003419878852404804"
        ]
       ],
       "shape": {
        "columns": 4,
        "rows": 6
       }
      },
      "text/html": [
       "<div>\n",
       "<style scoped>\n",
       "    .dataframe tbody tr th:only-of-type {\n",
       "        vertical-align: middle;\n",
       "    }\n",
       "\n",
       "    .dataframe tbody tr th {\n",
       "        vertical-align: top;\n",
       "    }\n",
       "\n",
       "    .dataframe thead th {\n",
       "        text-align: right;\n",
       "    }\n",
       "</style>\n",
       "<table border=\"1\" class=\"dataframe\">\n",
       "  <thead>\n",
       "    <tr style=\"text-align: right;\">\n",
       "      <th></th>\n",
       "      <th>Document</th>\n",
       "      <th>InnerProduct</th>\n",
       "      <th>Cosine</th>\n",
       "      <th>Jaccard</th>\n",
       "    </tr>\n",
       "  </thead>\n",
       "  <tbody>\n",
       "    <tr>\n",
       "      <th>0</th>\n",
       "      <td>D4</td>\n",
       "      <td>1.0441</td>\n",
       "      <td>0.521968</td>\n",
       "      <td>0.097403</td>\n",
       "    </tr>\n",
       "    <tr>\n",
       "      <th>1</th>\n",
       "      <td>D1</td>\n",
       "      <td>0.5081</td>\n",
       "      <td>0.254065</td>\n",
       "      <td>0.044517</td>\n",
       "    </tr>\n",
       "    <tr>\n",
       "      <th>2</th>\n",
       "      <td>D5</td>\n",
       "      <td>0.1636</td>\n",
       "      <td>0.081814</td>\n",
       "      <td>0.012897</td>\n",
       "    </tr>\n",
       "    <tr>\n",
       "      <th>3</th>\n",
       "      <td>D3</td>\n",
       "      <td>0.0443</td>\n",
       "      <td>0.022152</td>\n",
       "      <td>0.003876</td>\n",
       "    </tr>\n",
       "    <tr>\n",
       "      <th>4</th>\n",
       "      <td>D6</td>\n",
       "      <td>0.0430</td>\n",
       "      <td>0.021498</td>\n",
       "      <td>0.003890</td>\n",
       "    </tr>\n",
       "    <tr>\n",
       "      <th>5</th>\n",
       "      <td>D2</td>\n",
       "      <td>0.0424</td>\n",
       "      <td>0.021200</td>\n",
       "      <td>0.003420</td>\n",
       "    </tr>\n",
       "  </tbody>\n",
       "</table>\n",
       "</div>"
      ],
      "text/plain": [
       "  Document  InnerProduct    Cosine   Jaccard\n",
       "0       D4        1.0441  0.521968  0.097403\n",
       "1       D1        0.5081  0.254065  0.044517\n",
       "2       D5        0.1636  0.081814  0.012897\n",
       "3       D3        0.0443  0.022152  0.003876\n",
       "4       D6        0.0430  0.021498  0.003890\n",
       "5       D2        0.0424  0.021200  0.003420"
      ]
     },
     "metadata": {},
     "output_type": "display_data"
    },
    {
     "name": "stdout",
     "output_type": "stream",
     "text": [
      "\n",
      "🔹 Results for q4: ranking Documents\n"
     ]
    },
    {
     "data": {
      "application/vnd.microsoft.datawrangler.viewer.v0+json": {
       "columns": [
        {
         "name": "index",
         "rawType": "int64",
         "type": "integer"
        },
        {
         "name": "Document",
         "rawType": "object",
         "type": "string"
        },
        {
         "name": "InnerProduct",
         "rawType": "float64",
         "type": "float"
        },
        {
         "name": "Cosine",
         "rawType": "float64",
         "type": "float"
        },
        {
         "name": "Jaccard",
         "rawType": "float64",
         "type": "float"
        }
       ],
       "ref": "7834f3b6-f505-4f1f-b65a-f3e1cfeeace1",
       "rows": [
        [
         "0",
         "D2",
         "0.4507",
         "0.3186874955072853",
         "0.045116018338705474"
        ],
        [
         "1",
         "D1",
         "0.1307",
         "0.09242432336150168",
         "0.01334885763601638"
        ],
        [
         "2",
         "D5",
         "0.0477",
         "0.03373475416373363",
         "0.004416135094849694"
        ],
        [
         "3",
         "D6",
         "0.0",
         "0.0",
         "0.0"
        ],
        [
         "4",
         "D4",
         "0.0",
         "0.0",
         "0.0"
        ],
        [
         "5",
         "D3",
         "0.0",
         "0.0",
         "0.0"
        ]
       ],
       "shape": {
        "columns": 4,
        "rows": 6
       }
      },
      "text/html": [
       "<div>\n",
       "<style scoped>\n",
       "    .dataframe tbody tr th:only-of-type {\n",
       "        vertical-align: middle;\n",
       "    }\n",
       "\n",
       "    .dataframe tbody tr th {\n",
       "        vertical-align: top;\n",
       "    }\n",
       "\n",
       "    .dataframe thead th {\n",
       "        text-align: right;\n",
       "    }\n",
       "</style>\n",
       "<table border=\"1\" class=\"dataframe\">\n",
       "  <thead>\n",
       "    <tr style=\"text-align: right;\">\n",
       "      <th></th>\n",
       "      <th>Document</th>\n",
       "      <th>InnerProduct</th>\n",
       "      <th>Cosine</th>\n",
       "      <th>Jaccard</th>\n",
       "    </tr>\n",
       "  </thead>\n",
       "  <tbody>\n",
       "    <tr>\n",
       "      <th>0</th>\n",
       "      <td>D2</td>\n",
       "      <td>0.4507</td>\n",
       "      <td>0.318687</td>\n",
       "      <td>0.045116</td>\n",
       "    </tr>\n",
       "    <tr>\n",
       "      <th>1</th>\n",
       "      <td>D1</td>\n",
       "      <td>0.1307</td>\n",
       "      <td>0.092424</td>\n",
       "      <td>0.013349</td>\n",
       "    </tr>\n",
       "    <tr>\n",
       "      <th>2</th>\n",
       "      <td>D5</td>\n",
       "      <td>0.0477</td>\n",
       "      <td>0.033735</td>\n",
       "      <td>0.004416</td>\n",
       "    </tr>\n",
       "    <tr>\n",
       "      <th>3</th>\n",
       "      <td>D6</td>\n",
       "      <td>0.0000</td>\n",
       "      <td>0.000000</td>\n",
       "      <td>0.000000</td>\n",
       "    </tr>\n",
       "    <tr>\n",
       "      <th>4</th>\n",
       "      <td>D4</td>\n",
       "      <td>0.0000</td>\n",
       "      <td>0.000000</td>\n",
       "      <td>0.000000</td>\n",
       "    </tr>\n",
       "    <tr>\n",
       "      <th>5</th>\n",
       "      <td>D3</td>\n",
       "      <td>0.0000</td>\n",
       "      <td>0.000000</td>\n",
       "      <td>0.000000</td>\n",
       "    </tr>\n",
       "  </tbody>\n",
       "</table>\n",
       "</div>"
      ],
      "text/plain": [
       "  Document  InnerProduct    Cosine   Jaccard\n",
       "0       D2        0.4507  0.318687  0.045116\n",
       "1       D1        0.1307  0.092424  0.013349\n",
       "2       D5        0.0477  0.033735  0.004416\n",
       "3       D6        0.0000  0.000000  0.000000\n",
       "4       D4        0.0000  0.000000  0.000000\n",
       "5       D3        0.0000  0.000000  0.000000"
      ]
     },
     "metadata": {},
     "output_type": "display_data"
    },
    {
     "name": "stdout",
     "output_type": "stream",
     "text": [
      "\n",
      "🔹 Results for q5: Optimizing recommendation systems with LLMs by leveraging item metadata\n"
     ]
    },
    {
     "data": {
      "application/vnd.microsoft.datawrangler.viewer.v0+json": {
       "columns": [
        {
         "name": "index",
         "rawType": "int64",
         "type": "integer"
        },
        {
         "name": "Document",
         "rawType": "object",
         "type": "string"
        },
        {
         "name": "InnerProduct",
         "rawType": "float64",
         "type": "float"
        },
        {
         "name": "Cosine",
         "rawType": "float64",
         "type": "float"
        },
        {
         "name": "Jaccard",
         "rawType": "float64",
         "type": "float"
        }
       ],
       "ref": "073bb4a4-70db-4d01-b562-43d1d68830aa",
       "rows": [
        [
         "0",
         "D3",
         "0.6425",
         "0.2428650115792309",
         "0.04644858123983373"
        ],
        [
         "1",
         "D6",
         "0.3639",
         "0.13753083490900667",
         "0.02649609366467406"
        ],
        [
         "2",
         "D4",
         "0.2945",
         "0.11129312407188917",
         "0.020353859976501482"
        ],
        [
         "3",
         "D5",
         "0.2596",
         "0.09813633540331985",
         "0.016652340693035013"
        ],
        [
         "4",
         "D2",
         "0.2198",
         "0.08307514941072086",
         "0.014440860144408601"
        ],
        [
         "5",
         "D1",
         "0.0598",
         "0.022603612529177107",
         "0.004023684564661552"
        ]
       ],
       "shape": {
        "columns": 4,
        "rows": 6
       }
      },
      "text/html": [
       "<div>\n",
       "<style scoped>\n",
       "    .dataframe tbody tr th:only-of-type {\n",
       "        vertical-align: middle;\n",
       "    }\n",
       "\n",
       "    .dataframe tbody tr th {\n",
       "        vertical-align: top;\n",
       "    }\n",
       "\n",
       "    .dataframe thead th {\n",
       "        text-align: right;\n",
       "    }\n",
       "</style>\n",
       "<table border=\"1\" class=\"dataframe\">\n",
       "  <thead>\n",
       "    <tr style=\"text-align: right;\">\n",
       "      <th></th>\n",
       "      <th>Document</th>\n",
       "      <th>InnerProduct</th>\n",
       "      <th>Cosine</th>\n",
       "      <th>Jaccard</th>\n",
       "    </tr>\n",
       "  </thead>\n",
       "  <tbody>\n",
       "    <tr>\n",
       "      <th>0</th>\n",
       "      <td>D3</td>\n",
       "      <td>0.6425</td>\n",
       "      <td>0.242865</td>\n",
       "      <td>0.046449</td>\n",
       "    </tr>\n",
       "    <tr>\n",
       "      <th>1</th>\n",
       "      <td>D6</td>\n",
       "      <td>0.3639</td>\n",
       "      <td>0.137531</td>\n",
       "      <td>0.026496</td>\n",
       "    </tr>\n",
       "    <tr>\n",
       "      <th>2</th>\n",
       "      <td>D4</td>\n",
       "      <td>0.2945</td>\n",
       "      <td>0.111293</td>\n",
       "      <td>0.020354</td>\n",
       "    </tr>\n",
       "    <tr>\n",
       "      <th>3</th>\n",
       "      <td>D5</td>\n",
       "      <td>0.2596</td>\n",
       "      <td>0.098136</td>\n",
       "      <td>0.016652</td>\n",
       "    </tr>\n",
       "    <tr>\n",
       "      <th>4</th>\n",
       "      <td>D2</td>\n",
       "      <td>0.2198</td>\n",
       "      <td>0.083075</td>\n",
       "      <td>0.014441</td>\n",
       "    </tr>\n",
       "    <tr>\n",
       "      <th>5</th>\n",
       "      <td>D1</td>\n",
       "      <td>0.0598</td>\n",
       "      <td>0.022604</td>\n",
       "      <td>0.004024</td>\n",
       "    </tr>\n",
       "  </tbody>\n",
       "</table>\n",
       "</div>"
      ],
      "text/plain": [
       "  Document  InnerProduct    Cosine   Jaccard\n",
       "0       D3        0.6425  0.242865  0.046449\n",
       "1       D6        0.3639  0.137531  0.026496\n",
       "2       D4        0.2945  0.111293  0.020354\n",
       "3       D5        0.2596  0.098136  0.016652\n",
       "4       D2        0.2198  0.083075  0.014441\n",
       "5       D1        0.0598  0.022604  0.004024"
      ]
     },
     "metadata": {},
     "output_type": "display_data"
    }
   ],
   "source": [
    "import pandas as pd\n",
    "import numpy as np\n",
    "from nltk.corpus import stopwords\n",
    "from nltk.stem import PorterStemmer\n",
    "from collections import defaultdict\n",
    "import re\n",
    "\n",
    "# -------------------------------\n",
    "# 1️⃣ Load TF–IDF Weighted Inverted Index\n",
    "# -------------------------------\n",
    "inverted_path = \"results/inverted_index_weighted.txt\"\n",
    "\n",
    "data = pd.read_csv(\n",
    "    inverted_path, \n",
    "    sep=\"\\t\", \n",
    "    header=None, \n",
    "    names=[\"term\", \"doc\", \"freq\", \"tfidf\"]\n",
    ")\n",
    "\n",
    "# Build dictionary: {doc: {term: tfidf}}\n",
    "doc_dict = defaultdict(dict)\n",
    "for _, row in data.iterrows():\n",
    "    term = str(row[\"term\"]).lower()\n",
    "    doc = str(row[\"doc\"]).replace(\".txt\", \"\")\n",
    "    doc_dict[doc][term] = float(row[\"tfidf\"])\n",
    "\n",
    "# -------------------------------\n",
    "# 2️⃣ Preprocessing Function for Queries\n",
    "# -------------------------------\n",
    "stop_words = set(stopwords.words(\"english\"))\n",
    "stemmer = PorterStemmer()\n",
    "\n",
    "def preprocess(text):\n",
    "    tokens = re.findall(r\"\\b\\w+\\b\", text.lower())\n",
    "    filtered = [stemmer.stem(t) for t in tokens if t not in stop_words]\n",
    "    return filtered\n",
    "\n",
    "# -------------------------------\n",
    "# 3️⃣ Queries\n",
    "# -------------------------------\n",
    "queries = {\n",
    "    \"q1\": \"large language models for information retrieval and ranking\",\n",
    "    \"q2\": \"LLM for information retrieval and Ranking\",\n",
    "    \"q3\": \"query Reformulation in information retrieval\",\n",
    "    \"q4\": \"ranking Documents\",\n",
    "    \"q5\": \"Optimizing recommendation systems with LLMs by leveraging item metadata\"\n",
    "}\n",
    "\n",
    "# -------------------------------\n",
    "# 4️⃣ Vector Space Model Scoring Functions\n",
    "# -------------------------------\n",
    "def inner_product(query_terms, doc_terms):\n",
    "    score = 0.0\n",
    "    for term in query_terms:\n",
    "        if term in doc_terms:\n",
    "            score += doc_terms[term] * 1  # query weight = 1\n",
    "    return score\n",
    "\n",
    "def cosine_similarity(query_terms, doc_terms):\n",
    "    numerator = inner_product(query_terms, doc_terms)\n",
    "    doc_norm = np.sqrt(sum(np.square(list(doc_terms.values()))))\n",
    "    query_norm = np.sqrt(len(query_terms))  # binary weights\n",
    "    if doc_norm == 0 or query_norm == 0:\n",
    "        return 0\n",
    "    return numerator / (doc_norm * query_norm)\n",
    "\n",
    "def jaccard_similarity(query_terms, doc_terms):\n",
    "    intersection = sum([doc_terms[t] for t in query_terms if t in doc_terms])\n",
    "    union = len(query_terms) + sum(doc_terms.values()) - intersection\n",
    "    return intersection / union if union != 0 else 0\n",
    "\n",
    "# -------------------------------\n",
    "# 5️⃣ Compute and Rank Similarities\n",
    "# -------------------------------\n",
    "def rank_documents(query_text):\n",
    "    query_terms = preprocess(query_text)\n",
    "    scores = []\n",
    "\n",
    "    for doc, terms in doc_dict.items():\n",
    "        inner = inner_product(query_terms, terms)\n",
    "        cosine = cosine_similarity(query_terms, terms)\n",
    "        jaccard = jaccard_similarity(query_terms, terms)\n",
    "        scores.append((doc, inner, cosine, jaccard))\n",
    "\n",
    "    df = pd.DataFrame(scores, columns=[\"Document\", \"InnerProduct\", \"Cosine\", \"Jaccard\"])\n",
    "    df = df.sort_values(by=\"Cosine\", ascending=False)\n",
    "    return df.reset_index(drop=True)\n",
    "\n",
    "# -------------------------------\n",
    "# 6️⃣ Run for All Queries\n",
    "# -------------------------------\n",
    "for q_id, q_text in queries.items():\n",
    "    print(f\"\\n🔹 Results for {q_id}: {q_text}\")\n",
    "    results = rank_documents(q_text)\n",
    "    display(results.head(10))\n"
   ]
  },
  {
   "cell_type": "markdown",
   "id": "82418a1c",
   "metadata": {},
   "source": [
    "## 🧩 Explanation\n",
    "\n",
    "### 🔹 Inverted Index\n",
    "- Loaded from your **Lab 1 output** (contains: *term*, *document*, *TF–IDF*).  \n",
    "- Allows efficient retrieval of documents containing each term.\n",
    "\n",
    "---\n",
    "\n",
    "### 🔹 Document Dictionary (`doc_dict`)\n",
    "- Maps every **document → its TF–IDF terms**.  \n",
    "- Example:  \n",
    "  `{ \"doc1\": {\"cat\": 0.23, \"mat\": 0.18, ...}, \"doc2\": {...} }`\n",
    "\n",
    "---\n",
    "\n",
    "### 🔹 Query Preprocessing\n",
    "- Removes **stopwords**.  \n",
    "- Applies **stemming** to reduce words to their root form.  \n",
    "- Uses **binary weighting** for queries → each query term = **1**.\n",
    "\n",
    "---\n",
    "\n",
    "### 🔹 Similarity Measures\n",
    "\n",
    "| Measure | Description |\n",
    "|:---------|:-------------|\n",
    "| **Inner Product** | Basic overlap strength between query and document vectors. |\n",
    "| **Cosine Similarity** | Normalized measure of similarity (most commonly used). |\n",
    "| **Jaccard Similarity** | Balances overlap with document length. |\n",
    "\n",
    "---\n",
    "\n",
    "### 🔹 Ranking\n",
    "- Documents are **sorted by cosine similarity** by default.  \n",
    "- You can change the sorting column to use **another similarity metric**.\n"
   ]
  }
 ],
 "metadata": {
  "kernelspec": {
   "display_name": "ir_env",
   "language": "python",
   "name": "python3"
  },
  "language_info": {
   "codemirror_mode": {
    "name": "ipython",
    "version": 3
   },
   "file_extension": ".py",
   "mimetype": "text/x-python",
   "name": "python",
   "nbconvert_exporter": "python",
   "pygments_lexer": "ipython3",
   "version": "3.13.5"
  }
 },
 "nbformat": 4,
 "nbformat_minor": 5
}
