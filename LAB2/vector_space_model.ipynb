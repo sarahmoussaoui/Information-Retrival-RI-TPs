{
 "cells": [
  {
   "cell_type": "markdown",
   "id": "4d629d9b",
   "metadata": {},
   "source": [
    "Task 2 – Vector Space Model\n",
    "Implement the Vector Space Model (VSM) using the TF–IDF weighted representation of\n",
    "documents and queries. Each document and query should be represented as a term-weight vector.\n",
    "Compute document–query similarity using three different similarity measures: Inner Product\n",
    "Similarity, Cosine Similarity and Jaccard Similarity (formulas provided in lecture notes).\n",
    "\n",
    "Test Queries\n",
    "Use the following queries to test your implementation:\n",
    "- q1: large language models for information retrieval and ranking\n",
    "- q2: LLM for information retrieval and Ranking\n",
    "- q3: query Reformulation in information retrieval\n",
    "- q4: ranking Documents\n",
    "- q5: Optimizing recommendation systems with LLMs by leveraging item metadata\n",
    "  \n",
    "Expected Steps\n",
    "1. Load the Document–Term and Inverted Index files generated in Lab 1.\n",
    "2. Preprocess each query (tokenization, stop word removal, stemming).\n",
    "3. For each similarity measure (Inner Product, Cosine, Jaccard):\n",
    "o Compute the similarity score between the query and every document.\n",
    "For queries, use a binary weighting scheme: assign a weight of 1 to each\n",
    "term that appears in the query and 0 to terms that do not appear.\n",
    "o Rank the documents in descending order of similarity.\n",
    "o Display the ranked documents for each query"
   ]
  }
 ],
 "metadata": {
  "language_info": {
   "name": "python"
  }
 },
 "nbformat": 4,
 "nbformat_minor": 5
}
